{
  "cells": [
    {
      "cell_type": "markdown",
      "source": [
        "This file was created by Shoichiro Kitada. This file is placed in python-molbot (https://github.com/hori-group/python-molbot/)."
      ],
      "metadata": {
        "id": "0sSCrMSCe1-2"
      }
    },
    {
      "cell_type": "markdown",
      "metadata": {
        "id": "fs1i9UEtTP0J"
      },
      "source": [
        "##1.1.1 変数の考え方\n",
        "\n",
        "変数に値を代入したい時には以下のように書く。（数値だけでなく文字列も代入することができる）ただし、文字列を代入したい場合には、'python'のようにマークで囲むことを忘れてはいけない。"
      ]
    },
    {
      "cell_type": "code",
      "execution_count": null,
      "metadata": {
        "id": "BDyZ9oGPTIxk"
      },
      "outputs": [],
      "source": [
        "# aに123という整数値を代入したい時\n",
        "a = 123\n",
        "\n",
        "# bに123.4という少数を代入したい時\n",
        "b = 123.4\n",
        "\n",
        "# cに'python'という文字列を代入したい時\n",
        "c = 'python'"
      ]
    },
    {
      "cell_type": "markdown",
      "metadata": {
        "id": "kfYgHuUrVCVX"
      },
      "source": [
        "##1.1.2 値の表示の仕方\n",
        "\n",
        "代入したa,b,cの値を表示したい時には、print()という関数を用いれば良い。"
      ]
    },
    {
      "cell_type": "code",
      "execution_count": null,
      "metadata": {
        "colab": {
          "base_uri": "https://localhost:8080/"
        },
        "id": "pQ5C8rYzVdAc",
        "outputId": "56850c49-5427-4831-cd41-5db82ee930bb"
      },
      "outputs": [
        {
          "name": "stdout",
          "output_type": "stream",
          "text": [
            "123\n",
            "123.4\n",
            "python\n",
            "c\n"
          ]
        }
      ],
      "source": [
        "# aの値を表示\n",
        "print(a)\n",
        "\n",
        "# bの値を表示\n",
        "print(b)\n",
        "\n",
        "# cの文字列を表示（文字列に対しても同じ）\n",
        "print(c)\n",
        "\n",
        "# cという文字列を表示したい時（''で囲うことを忘れずに）\n",
        "print('c')"
      ]
    },
    {
      "cell_type": "markdown",
      "metadata": {
        "id": "N0AXomjEWW-k"
      },
      "source": [
        "##1.1.3 演算子の使い方\n",
        "\n",
        "演算子は以下のように用いる。（主に用いるのは5種類）"
      ]
    },
    {
      "cell_type": "code",
      "execution_count": null,
      "metadata": {
        "colab": {
          "base_uri": "https://localhost:8080/"
        },
        "id": "WQ60DBKPW8ei",
        "outputId": "4d3a61bb-852d-4857-df9d-f74043a694c5"
      },
      "outputs": [
        {
          "name": "stdout",
          "output_type": "stream",
          "text": [
            "8\n",
            "-2\n",
            "15\n",
            "0.6\n",
            "243\n"
          ]
        }
      ],
      "source": [
        "# a=3,b=5として足し算\n",
        "a = 3\n",
        "b = 5\n",
        "\n",
        "# 足し算をしたい場合\n",
        "c = a+b\n",
        "# 8が出力されるはず\n",
        "print(c)\n",
        "\n",
        "# 引き算をしたい場合\n",
        "d = a-b\n",
        "# -2が出力されるはず\n",
        "print(d)\n",
        "\n",
        "# 掛け算をしたい場合(*を使うことに注意)\n",
        "e = a*b\n",
        "# 15が出力されるはず\n",
        "print(e)\n",
        "\n",
        "# 割り算をしたい場合(/を使うことに注意)\n",
        "f = a/b\n",
        "# 0.6が出力されるはず\n",
        "print(f)\n",
        "\n",
        "# べき乗の計算(何乗の計算こと)をしたい場合(*を2回連続で使うことに注意)\n",
        "g = a**b\n",
        "# 243が出力されるはず\n",
        "print(g)"
      ]
    },
    {
      "cell_type": "markdown",
      "metadata": {
        "id": "t5m344ivZIFF"
      },
      "source": [
        "##1.1.4 変数自身に演算を行いたい場合\n",
        "\n",
        "ある変数に対して、特定の数を足したり引いたりしたい場合は以下のように$=$の前に演算子を置けば良い。"
      ]
    },
    {
      "cell_type": "code",
      "execution_count": null,
      "metadata": {
        "colab": {
          "base_uri": "https://localhost:8080/"
        },
        "id": "oonKAxW4avKG",
        "outputId": "4e69bc47-2c89-401c-f775-62e6d9a61065"
      },
      "outputs": [
        {
          "name": "stdout",
          "output_type": "stream",
          "text": [
            "5\n",
            "8\n"
          ]
        }
      ],
      "source": [
        "# 元々のiを定める\n",
        "i = 5\n",
        "# 元のiの値の表示\n",
        "print(i)\n",
        "\n",
        "# iに3を足したものを新たにiにしたい場合\n",
        "i += 3\n",
        "# 新たに定めたiの値の表示（8が出力されるはず）\n",
        "print(i)"
      ]
    },
    {
      "cell_type": "markdown",
      "metadata": {
        "id": "ONdkNFeNbpfR"
      },
      "source": [
        "### 1.1.5 リストの考え方\n",
        "\n",
        "リストにより、値を複数にまとめてかたまりの変数として考えることができる。リストを作るためには[ , ]を用いる。"
      ]
    },
    {
      "cell_type": "code",
      "execution_count": null,
      "metadata": {
        "colab": {
          "base_uri": "https://localhost:8080/"
        },
        "id": "T6QF_igNcIF-",
        "outputId": "22ff6c3f-37e4-4861-e404-e5def69361c4"
      },
      "outputs": [
        {
          "name": "stdout",
          "output_type": "stream",
          "text": [
            "[1, 2, 3, 4]\n"
          ]
        }
      ],
      "source": [
        "# リストaの作成\n",
        "a = [1,2,3,4]\n",
        "# リストaの出力\n",
        "print(a)"
      ]
    },
    {
      "cell_type": "code",
      "execution_count": null,
      "metadata": {
        "colab": {
          "base_uri": "https://localhost:8080/"
        },
        "id": "uIlOAH_TcMQA",
        "outputId": "5d5488d2-e8ef-4cee-836f-ad04904faf07"
      },
      "outputs": [
        {
          "name": "stdout",
          "output_type": "stream",
          "text": [
            "1\n",
            "4\n"
          ]
        }
      ],
      "source": [
        "# リストaから1個目の値を取り出す（pythonでは0番目、1番目、2番目という考え方をする）\n",
        "print(a[0])\n",
        "\n",
        "# リストaからから4個目の値を取り出す\n",
        "print(a[3])"
      ]
    },
    {
      "cell_type": "markdown",
      "metadata": {
        "id": "Z69dAgKFdZ3l"
      },
      "source": [
        "##1.1.6 if文\n",
        "\n",
        "if文は、条件を設けることによって出力を制御できる。以下のような構文を用いる。コロン:を忘れてはいけない。\n",
        "\n",
        "if 条件1:\n",
        "  \n",
        "  　処理1\n",
        "\n",
        "else 条件2:\n",
        "\n",
        "  　処理2\n",
        "\n",
        "この時、ifの条件式が満たされていれば処理1が実行され、満たされていなければ処理2が実行される。"
      ]
    },
    {
      "cell_type": "code",
      "execution_count": null,
      "metadata": {
        "colab": {
          "base_uri": "https://localhost:8080/"
        },
        "id": "ffQo0-YRd9S_",
        "outputId": "22674bb4-8bd7-4cab-d8ee-7b287c81507b"
      },
      "outputs": [
        {
          "name": "stdout",
          "output_type": "stream",
          "text": [
            "aは3よりも大きい\n",
            "bは4でない\n"
          ]
        }
      ],
      "source": [
        "# ifによる条件分岐1\n",
        "a = 4\n",
        "\n",
        "# aが3より大きい場合\n",
        "if a>3:\n",
        "  print('aは3よりも大きい')\n",
        "\n",
        "# 上の条件が満たされていない場合\n",
        "else:\n",
        "  print('aは3以下である')\n",
        "\n",
        "\n",
        "# ifによる条件分岐2\n",
        "b = 5\n",
        "\n",
        "# bが4に等しい場合(=を2回使うことに注意)\n",
        "if b==4:\n",
        "  print('bは4である')\n",
        "\n",
        "# 上の条件が満たされていない場合\n",
        "else:\n",
        "  print('bは4でない')"
      ]
    },
    {
      "cell_type": "markdown",
      "metadata": {
        "id": "rNOpDvmMfRPX"
      },
      "source": [
        "##1.1.7 for文\n",
        "\n",
        "forを用いることにより、繰り返し処理を行うことが可能である。基本的には以下のような構文をとる。\n",
        "\n",
        "for 変数（iを使うことが多い）in リスト:\n",
        "\n",
        "   　処理"
      ]
    },
    {
      "cell_type": "code",
      "execution_count": null,
      "metadata": {
        "colab": {
          "base_uri": "https://localhost:8080/"
        },
        "id": "cM54T_7jg7bo",
        "outputId": "c41b2e9f-0244-4b77-e7f8-c70682c51673"
      },
      "outputs": [
        {
          "name": "stdout",
          "output_type": "stream",
          "text": [
            "1\n",
            "2\n",
            "3\n"
          ]
        }
      ],
      "source": [
        "# iにリスト内の値をそれぞれ代入する\n",
        "\n",
        "# iに1,2,3の値が代入される\n",
        "for i in [1,2,3]:\n",
        "  print(i)"
      ]
    },
    {
      "cell_type": "markdown",
      "metadata": {
        "id": "8HIZccLjh0LX"
      },
      "source": [
        "上の処理に関しては以下のように考えられる。\n",
        "\n",
        "1.　iに1が代入され、iの値(1)が出力される。\n",
        "\n",
        "2.　iに2が代入され、iの値(2)が出力される。\n",
        "\n",
        "3.　iに3が代入され、iの値(3)が出力される。"
      ]
    },
    {
      "cell_type": "code",
      "execution_count": null,
      "metadata": {
        "colab": {
          "base_uri": "https://localhost:8080/"
        },
        "id": "1ClDqrEHicWb",
        "outputId": "9a9b1e1a-4308-407d-c99c-181ab14249f1"
      },
      "outputs": [
        {
          "name": "stdout",
          "output_type": "stream",
          "text": [
            "0\n",
            "1\n",
            "2\n",
            "3\n"
          ]
        }
      ],
      "source": [
        "# rangeを使ったfor文\n",
        "\n",
        "for i in range(4):\n",
        "  # range(n)は0~n-1までの配列を表す\n",
        "  print(i)"
      ]
    },
    {
      "cell_type": "markdown",
      "metadata": {
        "id": "8x0oStRmjUtA"
      },
      "source": [
        "##1.1.8 関数\n",
        "\n",
        "関数を使うことで、自分の好きなように処理を行うことが可能となる。プログラムの核をなしている部分と言えよう。関数の書き方は以下の通り。\n",
        "\n",
        "def 関数の名前(引数):\n",
        "\n",
        "   　処理\n",
        "\n",
        "   　return　返り値\n",
        "\n",
        "引数は$y=f(x)$の関数における$x$と考えてくれれば良い。なお、引数と返り値はなくても構わない。イメージを掴むために、以下の処理を見てもらいたい。\n",
        "\n",
        "\n",
        "    "
      ]
    },
    {
      "cell_type": "code",
      "execution_count": null,
      "metadata": {
        "colab": {
          "base_uri": "https://localhost:8080/"
        },
        "id": "3Y6VkxDWllVV",
        "outputId": "e4d2c93a-9b88-4d0a-819b-56a85774fd6f"
      },
      "outputs": [
        {
          "name": "stdout",
          "output_type": "stream",
          "text": [
            "hello world\n",
            "5\n"
          ]
        },
        {
          "data": {
            "text/plain": [
              "25"
            ]
          },
          "execution_count": 19,
          "metadata": {},
          "output_type": "execute_result"
        }
      ],
      "source": [
        "# 関数を定義その1\n",
        "def my_func_1():\n",
        "  print('hello world')\n",
        "\n",
        "my_func_1()\n",
        "\n",
        "# 関数を定義その2\n",
        "def my_func_2(x):\n",
        "  y = 2*x +1\n",
        "  print(y)\n",
        "\n",
        "# 5を出力\n",
        "my_func_2(2)\n",
        "\n",
        "# 関数を定義その3（2変数の場合）\n",
        "def my_func_3(x, y):\n",
        "  z = x**2 + y**2\n",
        "  return z\n",
        "\n",
        "# my_func_3にそれぞれそれぞれ3,4を代入した場合\n",
        "my_func_3(3,4)"
      ]
    },
    {
      "cell_type": "markdown",
      "metadata": {
        "id": "XdxsR5vqnT53"
      },
      "source": [
        "##1.2.1 Numpyのインポート\n",
        "\n",
        "Numpyは、数学関数のライブラリであり、これをインポートすることで、様々な関数を自由に用いることが可能となる。インポートのやり方は以下の通り。\n",
        "\n",
        "import numpy as np\n",
        "\n",
        "英語の意味を考えると、「numpyをnpとしてインポートする」ということになる。"
      ]
    },
    {
      "cell_type": "code",
      "execution_count": null,
      "metadata": {
        "colab": {
          "base_uri": "https://localhost:8080/"
        },
        "id": "T9BzBKiLxL3D",
        "outputId": "b94af983-30bd-482a-8134-92b651c35597"
      },
      "outputs": [
        {
          "output_type": "stream",
          "name": "stdout",
          "text": [
            "1\n",
            "[[1 3 5]\n",
            " [2 4 6]]\n"
          ]
        }
      ],
      "source": [
        "import numpy as np\n",
        "\n",
        "# PythonのリストからNumpyの配列を作る\n",
        "a = np.array([1, 3, 5, 7, 9]) # np中の関数arrayを用いることを示すためにnpとarrayの間に.を入れる\n",
        "\n",
        "# 0番目の値を取り出す\n",
        "print(a[0])\n",
        "\n",
        "# 2次元の配列を作る（行列）\n",
        "b = np.array([[1,3,5],\n",
        "              [2,4,6]])\n",
        "\n",
        "# 行列bの出力\n",
        "print(b)"
      ]
    },
    {
      "cell_type": "markdown",
      "metadata": {
        "id": "1EvzobldyzF9"
      },
      "source": [
        "##1.2.2 matplotlibのインポート\n",
        "\n",
        "matplotlibもライブラリの一つであるが、主にグラフの表示、編集に使われる。インポートのやり方はNumpyの時と同じである。\n",
        "\n",
        "import matplotlib.pyplot as plt"
      ]
    },
    {
      "cell_type": "code",
      "execution_count": null,
      "metadata": {
        "colab": {
          "base_uri": "https://localhost:8080/",
          "height": 265
        },
        "id": "tz15Zyhz1s4k",
        "outputId": "8f9b5038-92d2-438c-f802-b5e781ff2536"
      },
      "outputs": [
        {
          "data": {
            "image/png": "[encoded data removed]",
            "text/plain": [
              "<Figure size 432x288 with 1 Axes>"
            ]
          },
          "metadata": {},
          "output_type": "display_data"
        }
      ],
      "source": [
        "# 直線の描画\n",
        "\n",
        "# numpyとmatplotlib.pyplotのインポート\n",
        "import numpy as np\n",
        "import matplotlib.pyplot as plt\n",
        "\n",
        "# 変数xの範囲の決定（linspace(a,b,c)の場合、aからbまでc刻みのリストを作ることを意味する)\n",
        "x = np.linspace(-5, 5, 100)\n",
        "\n",
        "# y=2x+1に設定\n",
        "y = 2*x + 1\n",
        "\n",
        "# グラフをプロットする時の関数plotを用いる\n",
        "plt.plot(x, y)\n",
        "\n",
        "# グラフの表示\n",
        "plt.show()"
      ]
    },
    {
      "cell_type": "code",
      "execution_count": null,
      "metadata": {
        "colab": {
          "base_uri": "https://localhost:8080/",
          "height": 295
        },
        "id": "H_4pJ2bE0ls3",
        "outputId": "cdd90238-2353-4e24-a31e-b6f2160d4c89"
      },
      "outputs": [
        {
          "data": {
            "image/png": "[encoded data removed]",
            "text/plain": [
              "<Figure size 432x288 with 1 Axes>"
            ]
          },
          "metadata": {},
          "output_type": "display_data"
        }
      ],
      "source": [
        "# 三角関数の描画\n",
        "\n",
        "# numpyとmatplotlib.pyplotのインポート\n",
        "import numpy as np\n",
        "import matplotlib.pyplot as plt\n",
        "\n",
        "# 変数xの範囲の決定\n",
        "x = np.linspace(-5, 5, 100)\n",
        "\n",
        "# y=sinxに設定（sinやcosなどはnumpyを使う必要がある）\n",
        "y = np.sin(x) \n",
        "\n",
        "# グラフのプロット\n",
        "plt.plot(x,y)\n",
        "\n",
        "# グラフを装飾できる関数\n",
        "plt.xlabel('x') # x軸のラベル\n",
        "plt.ylabel('y') # y軸のラベル\n",
        "plt.grid(':') # グリッドの表示\n",
        "plt.title('y=sinx') # グラフのタイトル\n",
        "\n",
        "# グラフの表示\n",
        "plt.show()"
      ]
    },
    {
      "cell_type": "code",
      "execution_count": null,
      "metadata": {
        "colab": {
          "base_uri": "https://localhost:8080/",
          "height": 279
        },
        "id": "7j14jkgH1f4w",
        "outputId": "78349223-069f-4f9d-c729-145d7c4b9e7c"
      },
      "outputs": [
        {
          "data": {
            "image/png": "[encoded data removed]",
            "text/plain": [
              "<Figure size 432x288 with 1 Axes>"
            ]
          },
          "metadata": {},
          "output_type": "display_data"
        }
      ],
      "source": [
        "# y=sinxとy=cosxの同時表示\n",
        "import numpy as np\n",
        "import matplotlib.pyplot as plt\n",
        "\n",
        "# xの範囲の決定\n",
        "x = np.linspace(-5, 5, 100)\n",
        "\n",
        "# y_1=sinxの表示\n",
        "y_1 = np.sin(x)\n",
        "y_2 = np.cos(x)\n",
        "\n",
        "# グラフのプロット\n",
        "plt.plot(x, y_1, label='sinx') # 凡例の設定\n",
        "plt.plot(x, y_2, label='cosx') # 凡例の設定\n",
        "plt.grid(':')\n",
        "plt.legend() # 凡例の表示\n",
        "plt.xlabel('x')\n",
        "plt.ylabel('y')\n",
        "\n",
        "# グラフの表示\n",
        "plt.show()"
      ]
    },
    {
      "cell_type": "markdown",
      "metadata": {
        "id": "zAPMzbGGBQHt"
      },
      "source": [
        "## 1.3.1 @title Parametersの使い方\n",
        "\n",
        "グラフを描く際に、パラメータの値を随時変更しながら、どのようにグラフの概形が変わるかを見たい場合がある。パラメータの値を手動で逐一変えながら、グラフを確認するのは手間がかかるので、そんな時は以下の@title Parametersを使うと便利である。（google colaboratory限定）\n",
        "\n"
      ]
    },
    {
      "cell_type": "code",
      "source": [
        "#@title Parameters { run: \"auto\", vertical-output: true, form-width: \"50%\", display-mode: \"both\" }\n",
        "k = 1.04 #@param {type:\"slider\", min:0, max:2.0, step:0.01}\n",
        "\n",
        "# min:は最小値　max:は最大値　step:は刻み幅（どれだけ細かくパラメータ変化できるかを表す）"
      ],
      "metadata": {
        "id": "fVj6g4UGugZb"
      },
      "execution_count": null,
      "outputs": []
    },
    {
      "cell_type": "code",
      "source": [
        "import numpy as np\n",
        "import matplotlib.pyplot as plt\n",
        "\n",
        "# スライドバーの設置\n",
        "#@title Parameters { run: \"auto\", vertical-output: true, form-width: \"50%\", display-mode: \"both\" }\n",
        "k = 1.2 #@param {type:\"slider\", min:0, max:2.0, step:0.01}\n",
        "\n",
        "x = np.linspace(-np.pi, np.pi, 100)\n",
        "y = np.sin(k*x)\n",
        "\n",
        "plt.plot(x,y)\n",
        "plt.xlabel('x')\n",
        "plt.ylabel('y')\n",
        "plt.grid(':')\n",
        "plt.show()"
      ],
      "metadata": {
        "colab": {
          "base_uri": "https://localhost:8080/",
          "height": 279
        },
        "id": "H-A16Nj1viIQ",
        "outputId": "caf8f523-3e64-45f8-c11e-9bc6b1c49af5"
      },
      "execution_count": null,
      "outputs": [
        {
          "output_type": "display_data",
          "data": {
            "text/plain": [
              "<Figure size 432x288 with 1 Axes>"
            ],
            "image/png": "[encoded data removed]"
          },
          "metadata": {
            "needs_background": "light"
          }
        }
      ]
    },
    {
      "cell_type": "markdown",
      "metadata": {
        "id": "c0snCuiQ-Fyc"
      },
      "source": [
        "##1.3.2 微分方程式の解法（ソルバーを使ったやり方）\n",
        "\n",
        "ここでは、化学的な微分方程式の代表例として、以下の1次反応による物質Aの濃度変化を考える。\n",
        "\n",
        "\\begin{equation}\n",
        "\\mathrm{A\\longrightarrow B}\n",
        "\\end{equation}\n",
        "\n",
        "時刻$t$における反応物Aの濃度を$y(t)$とおくと微分方程式は以下のように書ける。\n",
        "\n",
        "\\begin{equation}\n",
        "\\frac{dy(t)}{dt}=-ky(t)\n",
        "\\end{equation}\n",
        "\n",
        "ここで、$k$は反応速度定数である。\n",
        "\n",
        "ソルバーはscipy.integrateをインポートすることで使用可能である。（先に用いたnumpyやmatplotlib.pyplotと同様）\n",
        "\n",
        "なお、ライブラリの特定の関数だけ用いたい場合は以下のように書く。\n",
        "\n",
        "from ライブラリ import ライブラリ上の関数\n",
        "\n",
        "上記の微分方程式をソルバーで解き、グラフにしてみよう。"
      ]
    },
    {
      "cell_type": "code",
      "source": [
        "# numpyとmatplotlib.pyplotのインポート\n",
        "import numpy as np\n",
        "import matplotlib.pyplot as plt\n",
        "\n",
        "# スライドバーの設置\n",
        "#@title Parameters { run: \"auto\", vertical-output: true, form-width: \"50%\", display-mode: \"both\" }\n",
        "\n",
        "# 初期濃度をスライドバーで変化\n",
        "y_0 = 0.15 #@param {type:\"slider\", min:0, max:0.2, step:0.01}\n",
        "\n",
        "# 反応速度定数をスライドバーで変化\n",
        "k = 1.33 #@param {type:\"slider\", min:0, max:2.0, step:0.01}\n",
        "\n",
        "# 微分方程式を解くためのツールのインポート\n",
        "from scipy.integrate import odeint\n",
        "\n",
        "# 解きたい微分方程式の定義\n",
        "def dydt(y, t):\n",
        "  dydt = -k*y\n",
        "  return dydt\n",
        "\n",
        "t = np.linspace(0, 5.0, 1000)\n",
        "y = odeint(dydt, y_0, t) # 微分方程式を解くための関数odeintを使う\n",
        "\n",
        "# グラフの可視化\n",
        "plt.plot(t,y)\n",
        "plt.xlabel('t')\n",
        "plt.ylabel('y(t)')\n",
        "plt.grid(':')\n",
        "plt.show()"
      ],
      "metadata": {
        "colab": {
          "base_uri": "https://localhost:8080/",
          "height": 279
        },
        "id": "HB1DemlTGOFv",
        "outputId": "72024929-67af-4473-b3ac-6fa206333f0c"
      },
      "execution_count": null,
      "outputs": [
        {
          "output_type": "display_data",
          "data": {
            "text/plain": [
              "<Figure size 432x288 with 1 Axes>"
            ],
            "image/png": "[encoded data removed]"
          },
          "metadata": {
            "needs_background": "light"
          }
        }
      ]
    },
    {
      "cell_type": "markdown",
      "source": [
        "## 1.3.3 微分方程式の解法（発展内容）\n",
        "\n",
        "ここでは、微分方程式の代表例として、鉛直投げ上げ運動を取り上げる。投げ上げ運動に対し、鉛直上向きを正とすると、運動方程式は以下のようにかける。\n",
        "\n",
        "\\begin{equation}\n",
        " m\\frac{d^{2}x}{dt^{2}}=-mg\n",
        "\\end{equation}\n",
        "\n",
        "両辺を$m$で割ると\n",
        "\\begin{equation}\n",
        " \\frac{d^{2}x}{dt^{2}}=-g\n",
        "\\end{equation}\n",
        "\n",
        "となる。時間積分を行うことにより、初期速度を$v_0$とすると\n",
        "\\begin{equation}\n",
        " \\frac{dx}{dt}=-gt+v_0\n",
        "\\end{equation}\n",
        "\n",
        "これを下のように解いてみる。\n",
        "$dx=\\Delta x$、$dt=\\Delta t$と離散化して近似する。つまり、\n",
        "\\begin{equation}\n",
        " \\frac{\\Delta{x}}{\\Delta{t}}=-gt+v_0\n",
        "\\end{equation}\n",
        "\n",
        "となる。両辺に$dt=\\Delta t$をかけることで、変化量$\\Delta{x}$は\n",
        "\\begin{equation}\n",
        " \\Delta{x}=(-gt+v_0)\\Delta{t}\n",
        "\\end{equation}\n",
        "\n",
        "ある時刻$t_n$における高さを$x_n$とすると、そこから$\\Delta{t}$秒後の高さを$x_{n+1}$として、以下の式が成立\n",
        "\\begin{equation}\n",
        " x_{n+1}=x_n + (-gt_n+v_0)\\Delta{t}\n",
        "\\end{equation}\n",
        "\n",
        "上式から、高さの初期値$x_0$、速度の初期値$v_0$、刻み幅$\\Delta{t}$の値を設定することにより、漸化式のように高さ$x_n$を求めることができる。一般に刻み幅$\\Delta{t}$を小さくすれば、解析解により近い精度で数値解を求めることができる。\n",
        "\n",
        "なお、解析解は以下の通り\n",
        "\\begin{equation}\n",
        " x(t)=v_0t - \\frac{1}{2}gt^{2}+x_0\n",
        "\\end{equation}"
      ],
      "metadata": {
        "id": "6RNq7AhKGAKk"
      }
    },
    {
      "cell_type": "code",
      "execution_count": null,
      "metadata": {
        "colab": {
          "base_uri": "https://localhost:8080/",
          "height": 279
        },
        "id": "gIiXpZvQdjLe",
        "outputId": "387218fd-ab6f-48f2-da65-a41d9ad76163"
      },
      "outputs": [
        {
          "output_type": "display_data",
          "data": {
            "text/plain": [
              "<Figure size 432x288 with 1 Axes>"
            ],
            "image/png": "[encoded data removed]"
          },
          "metadata": {
            "needs_background": "light"
          }
        }
      ],
      "source": [
        "# numpyとmatplotlib.pyplotのインポート\n",
        "import numpy as np\n",
        "import matplotlib.pyplot as plt\n",
        "\n",
        "# スライドバーの設置\n",
        "#@title Parameters { run: \"auto\", vertical-output: true, form-width: \"50%\", display-mode: \"both\" }\n",
        "# 刻み幅delta_tをスライドバーで変化\n",
        "delta_t = 0.079 #@param {type:\"slider\", min:0, max:0.2, step:0.001}\n",
        "\n",
        "# 初期値の設定\n",
        "v_0 = 10\n",
        "x_0 = 0\n",
        "\n",
        "# 重力加速度の設定\n",
        "g = 9.8\n",
        "\n",
        "# 数値解\n",
        "t_n = 0 # 時刻の初期値\n",
        "x_n = x_0 # 位置の初期値\n",
        "\n",
        "for i in range(10000):\n",
        "  if x_n >= 0:\n",
        "    plt.scatter(t_n, x_n, marker='o', c='red') # plt.scatterは散布図を表す（離散的なプロットと思ってくれれば良い）\n",
        "    x_n += (-g*t_n + v_0) * delta_t\n",
        "    t_n += delta_t\n",
        "  else:\n",
        "    break # 処理を強制終了\n",
        "\n",
        "# 解析解\n",
        "t = np.linspace(0, (2*v_0)/g, 100) # 0秒から初期位置に戻る時間をプロット範囲とする\n",
        "x_t = v_0*t - (1/2)*g*t**2 + x_0\n",
        "plt.plot(t, x_t)\n",
        "\n",
        "# グラフの表示\n",
        "plt.xlabel('t')\n",
        "plt.ylabel('x')\n",
        "plt.grid(':')\n",
        "plt.show()\n",
        "\n"
      ]
    },
    {
      "cell_type": "markdown",
      "metadata": {
        "id": "xEZ15Df0FCUx"
      },
      "source": [
        "## 参考文献\n",
        "\n",
        "１．我妻幸長,『Pythonで動かして学ぶ！あたらしい数学の教科書』,(2019),  (翔泳社)\n",
        "\n",
        "２．藤井孝藏, 立川智章, 『Pythonで学ぶ流体力学の数値計算法』, (2022), (オーム社)"
      ]
    },
    {
      "cell_type": "markdown",
      "source": [
        "## モジュールの詳しい使い方について\n",
        "\n",
        "①．NumPy\n",
        "\n",
        "https://numpy.org/doc/stable/reference/\n",
        "\n",
        "②．Matplotlib\n",
        "\n",
        "https://matplotlib.org/stable/index.html\n",
        "\n",
        "③．Scipy\n",
        "\n",
        "https://docs.scipy.org/doc/scipy/reference/"
      ],
      "metadata": {
        "id": "n9kmV0ajW3f1"
      }
    },
    {
      "cell_type": "markdown",
      "source": [
        "## スライドバーの設置について\n",
        "\n",
        "https://colab.research.google.com/notebooks/forms.ipynb"
      ],
      "metadata": {
        "id": "MjQ9WsADY3iX"
      }
    },
    {
      "cell_type": "markdown",
      "source": [
        "本教材は、**分子ロボティクス夏の学校2022ソフトウェア講習6**の内容をもとに作成しました。"
      ],
      "metadata": {
        "id": "30kxNTQ1fJZJ"
      }
    }
  ],
  "metadata": {
    "colab": {
      "provenance": []
    },
    "kernelspec": {
      "display_name": "Python 3",
      "name": "python3"
    },
    "language_info": {
      "name": "python"
    }
  },
  "nbformat": 4,
  "nbformat_minor": 0
}